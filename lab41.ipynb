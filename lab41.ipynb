{
 "cells": [
  {
   "cell_type": "code",
   "execution_count": 160,
   "metadata": {},
   "outputs": [],
   "source": [
    "import numpy as np\n",
    "import matplotlib\n",
    "import matplotlib.pyplot as plt\n",
    "from scipy.special import erfc"
   ]
  },
  {
   "cell_type": "code",
   "execution_count": 161,
   "metadata": {},
   "outputs": [],
   "source": [
    "def Eb_N0_dB_to_p(Eb_N0_dB):\n",
    "    # Converter Eb/N0 de dB para valor linear\n",
    "    Eb_N0 = 10 ** (Eb_N0_dB / 10)\n",
    "    \n",
    "    # Calcular a probabilidade de erro p usando a função erfc\n",
    "    p = 0.5 * erfc(np.sqrt(Eb_N0))\n",
    "    \n",
    "    return p"
   ]
  },
  {
   "cell_type": "code",
   "execution_count": 162,
   "metadata": {},
   "outputs": [],
   "source": [
    "Eb_N0_db = 5\n",
    "p = Eb_N0_dB_to_p(Eb_N0_db)"
   ]
  },
  {
   "cell_type": "code",
   "execution_count": 163,
   "metadata": {},
   "outputs": [],
   "source": [
    "def bsc(input_vector: np.ndarray, p: float) -> np.ndarray:\n",
    "    # Generate a random vector with the same length as the input vector\n",
    "    random_vector = np.random.rand(input_vector.shape[0])\n",
    "    # Apply the channel to the input vector\n",
    "    output_vector = (input_vector + (random_vector < p)) % 2\n",
    "    return output_vector"
   ]
  },
  {
   "cell_type": "code",
   "execution_count": 164,
   "metadata": {},
   "outputs": [
    {
     "data": {
      "text/plain": [
       "array([0, 1, 1, 0], dtype=int32)"
      ]
     },
     "execution_count": 164,
     "metadata": {},
     "output_type": "execute_result"
    }
   ],
   "source": [
    "# Test the bsc\n",
    "input = np.array([0, 1, 1, 0])\n",
    "output = bsc(input, p)\n",
    "output"
   ]
  },
  {
   "cell_type": "code",
   "execution_count": 165,
   "metadata": {},
   "outputs": [],
   "source": [
    "# Defining a function as a Hamming coder\n",
    "def hamming_coder(input_vector: np.ndarray) -> np.ndarray:\n",
    "    # Defining a parity matrix\n",
    "    G = np.array([[1, 0, 0, 0, 1, 1, 1],\n",
    "                  [0, 1, 0, 0, 1, 0, 1],\n",
    "                  [0, 0, 1, 0, 1, 1, 0],\n",
    "                  [0, 0, 0, 1, 0, 1, 1]], dtype=int)\n",
    "    # Encoding the input vector\n",
    "    output_vector = np.dot(input_vector, G) % 2\n",
    "    return output_vector"
   ]
  },
  {
   "cell_type": "code",
   "execution_count": 166,
   "metadata": {},
   "outputs": [
    {
     "data": {
      "text/plain": [
       "array([0, 1, 1, 0, 0, 1, 1], dtype=int32)"
      ]
     },
     "execution_count": 166,
     "metadata": {},
     "output_type": "execute_result"
    }
   ],
   "source": [
    "input = np.array([0, 1, 1, 0])\n",
    "output = hamming_coder(input)\n",
    "output"
   ]
  },
  {
   "cell_type": "code",
   "execution_count": 167,
   "metadata": {},
   "outputs": [],
   "source": [
    "# Define a function for the syndrome calculator\n",
    "def syndrome(input_vector: np.ndarray) -> np.ndarray:\n",
    "    # Defining a parity-check matrix\n",
    "    H = np.array([[1, 1, 1, 0, 1, 0, 0],\n",
    "                  [1, 0, 1, 1, 0, 1, 0],\n",
    "                  [1, 1, 0, 1, 0, 0, 1]], dtype=int)\n",
    "    # Decoding the input vector\n",
    "    output_vector = np.dot(input_vector, H.T) % 2\n",
    "    return output_vector"
   ]
  },
  {
   "cell_type": "code",
   "execution_count": 168,
   "metadata": {},
   "outputs": [
    {
     "data": {
      "text/plain": [
       "array([1, 0, 1, 1, 0, 1, 0], dtype=int32)"
      ]
     },
     "execution_count": 168,
     "metadata": {},
     "output_type": "execute_result"
    }
   ],
   "source": [
    "# Test the syndrome calculator\n",
    "input = np.array([1, 0, 1, 1])\n",
    "coded_input = hamming_coder(input)\n",
    "coded_input"
   ]
  },
  {
   "cell_type": "code",
   "execution_count": 169,
   "metadata": {},
   "outputs": [
    {
     "data": {
      "text/plain": [
       "array([0, 0, 0], dtype=int32)"
      ]
     },
     "execution_count": 169,
     "metadata": {},
     "output_type": "execute_result"
    }
   ],
   "source": [
    "s = syndrome(coded_input)\n",
    "s"
   ]
  },
  {
   "cell_type": "code",
   "execution_count": 170,
   "metadata": {},
   "outputs": [],
   "source": [
    "s_dict = {\n",
    "    '0': (np.array([0, 0, 0]), np.array([0, 0, 0, 0, 0, 0, 0])),\n",
    "    '1': (np.array([1, 1, 1]), np.array([1, 0, 0, 0, 0, 0, 0])),\n",
    "    '2': (np.array([1, 0, 1]), np.array([0, 1, 0, 0, 0, 0, 0])),\n",
    "    '3': (np.array([1, 1, 0]), np.array([0, 0, 1, 0, 0, 0, 0])),\n",
    "    '4': (np.array([0, 1, 1]), np.array([0, 0, 0, 1, 0, 0, 0])),\n",
    "    '5': (np.array([1, 0, 0]), np.array([0, 0, 0, 0, 1, 0, 0])),\n",
    "    '6': (np.array([0, 1, 0]), np.array([0, 0, 0, 0, 0, 1, 0])),\n",
    "    '7': (np.array([0, 0, 1]), np.array([0, 0, 0, 0, 0, 0, 1]))\n",
    "}"
   ]
  },
  {
   "cell_type": "code",
   "execution_count": 171,
   "metadata": {},
   "outputs": [],
   "source": [
    "# Calculating the e_prime from syndrome\n",
    "def e_prime_calc(s: np.ndarray) -> np.ndarray:\n",
    "    for s_index in s_dict.items():\n",
    "        if np.array_equal(s_index[1][0], s):\n",
    "            return s_index[1][1]"
   ]
  },
  {
   "cell_type": "code",
   "execution_count": 172,
   "metadata": {},
   "outputs": [
    {
     "data": {
      "text/plain": [
       "array([1, 1, 0], dtype=int32)"
      ]
     },
     "execution_count": 172,
     "metadata": {},
     "output_type": "execute_result"
    }
   ],
   "source": [
    "test = np.array([0, 0, 1, 0, 0, 0, 0])\n",
    "s = syndrome(test)\n",
    "s"
   ]
  },
  {
   "cell_type": "code",
   "execution_count": 173,
   "metadata": {},
   "outputs": [
    {
     "data": {
      "text/plain": [
       "array([0, 0, 1, 0, 0, 0, 0])"
      ]
     },
     "execution_count": 173,
     "metadata": {},
     "output_type": "execute_result"
    }
   ],
   "source": [
    "e_prime = e_prime_calc(s)\n",
    "e_prime"
   ]
  },
  {
   "cell_type": "code",
   "execution_count": 174,
   "metadata": {},
   "outputs": [],
   "source": [
    "# Calculating the e_prime from syndrome\n",
    "def e_prime_calc(s: np.ndarray) -> np.ndarray:\n",
    "    for s_index in s_dict.items():\n",
    "        if np.array_equal(s_index[1][0], s):\n",
    "            return s_index[1][1]"
   ]
  },
  {
   "cell_type": "code",
   "execution_count": 175,
   "metadata": {},
   "outputs": [],
   "source": [
    "# Defining the Hamming decoder function with 1-bit correction\n",
    "def hamming_decoder(input_vector: np.ndarray) -> np.ndarray:\n",
    "    s = syndrome(input_vector)\n",
    "    e_prime = e_prime_calc(s)\n",
    "    decoded = (input_vector + e_prime) % 2\n",
    "    return decoded[:4]"
   ]
  },
  {
   "cell_type": "code",
   "execution_count": 176,
   "metadata": {},
   "outputs": [
    {
     "data": {
      "text/plain": [
       "array([0, 1, 1, 0], dtype=int32)"
      ]
     },
     "execution_count": 176,
     "metadata": {},
     "output_type": "execute_result"
    }
   ],
   "source": [
    "test = np.array([0, 1, 1, 0, 0, 1, 1])\n",
    "output_test = hamming_decoder(test)\n",
    "output_test"
   ]
  },
  {
   "cell_type": "code",
   "execution_count": 177,
   "metadata": {},
   "outputs": [],
   "source": [
    "def bsc_pb_est(p_values):\n",
    "    sample_size = 1_000_000\n",
    "    k = 1\n",
    "    l = int(sample_size / k)\n",
    "    \n",
    "    # Check if p_values is a single float value or an array\n",
    "    if isinstance(p_values, float) or isinstance(p_values, int):\n",
    "        p_values = np.array([p_values])\n",
    "    \n",
    "    error_probabilities = []\n",
    "\n",
    "    for p in p_values:\n",
    "        error_count = 0\n",
    "        for _ in range(l):\n",
    "            input_vector = np.random.randint(0, 2, k)\n",
    "            output_vector = bsc(input_vector, p)\n",
    "            if not np.array_equal(input_vector, output_vector):\n",
    "                error_count += 1\n",
    "        error_probabilities.append((1 / l) * error_count)\n",
    "\n",
    "    return np.array(error_probabilities)"
   ]
  },
  {
   "cell_type": "code",
   "execution_count": 178,
   "metadata": {},
   "outputs": [
    {
     "data": {
      "text/plain": [
       "array([0.05039])"
      ]
     },
     "execution_count": 178,
     "metadata": {},
     "output_type": "execute_result"
    }
   ],
   "source": [
    "bsc_pb_est(0.05)"
   ]
  },
  {
   "cell_type": "code",
   "execution_count": 180,
   "metadata": {},
   "outputs": [],
   "source": [
    "def hamming_pb_est(p_values):\n",
    "    sample_size = 2_000_000\n",
    "    k = 4\n",
    "    l = int(sample_size / k)\n",
    "    \n",
    "    # Check if p_values is a single float value or an array\n",
    "    if isinstance(p_values, float) or isinstance(p_values, int):\n",
    "        p_values = np.array([p_values])\n",
    "    \n",
    "    error_probabilities = []\n",
    "\n",
    "    for p in p_values:\n",
    "        error_count = 0\n",
    "        for _ in range(l):\n",
    "            input_vector = np.random.randint(0, 2, k)\n",
    "            input_decoded = hamming_coder(input_vector)\n",
    "            transmitted_vector = bsc(input_decoded, p)\n",
    "            decoded_vector = hamming_decoder(transmitted_vector)\n",
    "            if not np.array_equal(input_vector, decoded_vector):\n",
    "                error_count += 1\n",
    "        error_probabilities.append((1 / l) * error_count)\n",
    "\n",
    "    return np.array(error_probabilities)"
   ]
  },
  {
   "cell_type": "code",
   "execution_count": 181,
   "metadata": {},
   "outputs": [
    {
     "data": {
      "text/plain": [
       "array([0.044404])"
      ]
     },
     "execution_count": 181,
     "metadata": {},
     "output_type": "execute_result"
    }
   ],
   "source": [
    "hamming_pb_est(0.05)"
   ]
  },
  {
   "cell_type": "code",
   "execution_count": 182,
   "metadata": {},
   "outputs": [
    {
     "data": {
      "text/plain": [
       "array([0.0786496 , 0.0670652 , 0.05628195, 0.04640128, 0.03750613,\n",
       "       0.02965529, 0.02287841, 0.01717254, 0.01250082, 0.00879381,\n",
       "       0.00595387])"
      ]
     },
     "execution_count": 182,
     "metadata": {},
     "output_type": "execute_result"
    }
   ],
   "source": [
    "Eb_N0_dB_range = np.arange(0, 5.5, 0.5)\n",
    "p_values = Eb_N0_dB_to_p(Eb_N0_dB_range)\n",
    "p_values"
   ]
  },
  {
   "cell_type": "code",
   "execution_count": 183,
   "metadata": {},
   "outputs": [
    {
     "data": {
      "text/plain": [
       "array([0.099992, 0.076082, 0.054708, 0.038904, 0.025822, 0.016632,\n",
       "       0.010568, 0.00581 , 0.0032  , 0.001622, 0.00075 ])"
      ]
     },
     "execution_count": 183,
     "metadata": {},
     "output_type": "execute_result"
    }
   ],
   "source": [
    "ber_results = hamming_pb_est(p_values)\n",
    "ber_results"
   ]
  },
  {
   "cell_type": "code",
   "execution_count": 184,
   "metadata": {},
   "outputs": [],
   "source": [
    "def plotar_ber(Eb_N0_dB_range, ber_results):\n",
    "    plt.figure(figsize=(10, 6))\n",
    "    plt.plot(Eb_N0_dB_range, ber_results, marker='o', linestyle='-', color='b')\n",
    "    plt.yscale('log')\n",
    "    plt.xlabel('Eb/N0 (dB)')\n",
    "    plt.ylabel('Taxa de Erro de Bit (BER)')\n",
    "    plt.ylim([1e-4, 1])\n",
    "    plt.title('Desempenho Hamming')\n",
    "    plt.grid(True, which='both', linestyle='--', linewidth=0.5)\n",
    "    plt.show()"
   ]
  },
  {
   "cell_type": "code",
   "execution_count": 185,
   "metadata": {},
   "outputs": [
    {
     "data": {
      "image/png": "[encoded data removed]",
      "text/plain": [
       "<Figure size 1000x600 with 1 Axes>"
      ]
     },
     "metadata": {},
     "output_type": "display_data"
    }
   ],
   "source": [
    "# Plotar o gráfico\n",
    "plotar_ber(Eb_N0_dB_range, ber_results)"
   ]
  },
  {
   "cell_type": "code",
   "execution_count": 185,
   "metadata": {},
   "outputs": [
    {
     "name": "stdout",
     "output_type": "stream",
     "text": [
      "Menor valor de Eb/N0 para BER < 10^-4: None dB\n"
     ]
    }
   ],
   "source": [
    "def encontrar_menor_eb_n0(ber_results, Eb_N0_dB_range, threshold=1e-4):\n",
    "    for Eb_N0_dB, ber in zip(Eb_N0_dB_range, ber_results):\n",
    "        if ber < threshold:\n",
    "            return Eb_N0_dB\n",
    "    return None\n",
    "\n",
    "# Encontrar o menor valor de Eb/N0 para BER < 10^-4\n",
    "menor_eb_n0 = encontrar_menor_eb_n0(ber_results, Eb_N0_dB_range)\n",
    "print(f\"Menor valor de Eb/N0 para BER < 10^-4: {menor_eb_n0} dB\")"
   ]
  }
 ],
 "metadata": {
  "kernelspec": {
   "display_name": "base",
   "language": "python",
   "name": "python3"
  },
  "language_info": {
   "codemirror_mode": {
    "name": "ipython",
    "version": 3
   },
   "file_extension": ".py",
   "mimetype": "text/x-python",
   "name": "python",
   "nbconvert_exporter": "python",
   "pygments_lexer": "ipython3",
   "version": "3.11.3"
  }
 },
 "nbformat": 4,
 "nbformat_minor": 2
}
