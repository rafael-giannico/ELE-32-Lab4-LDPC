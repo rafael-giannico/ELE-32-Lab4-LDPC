{
 "cells": [
  {
   "cell_type": "markdown",
   "metadata": {},
   "source": [
    "# ELE-32 - LAB 4 - Comparação Justa\n",
    "---"
   ]
  },
  {
   "cell_type": "code",
   "execution_count": 2,
   "metadata": {},
   "outputs": [],
   "source": [
    "# Libraries import\n",
    "import numpy as np\n",
    "import matplotlib\n",
    "import matplotlib.pyplot as plt\n",
    "from numba import njit\n",
    "import networkx as nx\n",
    "from multiprocessing import Pool\n",
    "import csv\n",
    "from scipy import special"
   ]
  },
  {
   "cell_type": "markdown",
   "metadata": {},
   "source": [
    "# 1. Obtenha um gráfico da probabilidade de erro em função de $E_i/N_0$ comparando os seguintes sistemas:\n",
    "---"
   ]
  },
  {
   "cell_type": "markdown",
   "metadata": {},
   "source": [
    "## 1.1 Sistema BPSK não codificado (não precisa ser simulado)\n",
    "---"
   ]
  },
  {
   "cell_type": "code",
   "execution_count": 3,
   "metadata": {},
   "outputs": [],
   "source": [
    "# Defining a function to calculate the Q value (statistics)\n",
    "def q(v: np.ndarray) -> np.ndarray:\n",
    "    return 0.5 - 0.5 * special.erf(v / np.sqrt(2))\n",
    "\n",
    "# Defining a function to simulate a BPSK uncodified probability error\n",
    "def pe_bpsk(Eb_N0_dB: np.ndarray) -> np.ndarray:\n",
    "    Eb_N0 = 10**(Eb_N0_dB / 10)\n",
    "    return q(np.sqrt(2 * Eb_N0))"
   ]
  },
  {
   "cell_type": "code",
   "execution_count": 4,
   "metadata": {},
   "outputs": [
    {
     "data": {
      "image/png": "[encoded data removed]",
      "text/plain": [
       "<Figure size 640x480 with 1 Axes>"
      ]
     },
     "metadata": {},
     "output_type": "display_data"
    }
   ],
   "source": [
    "# Example of simulation of BPSK uncodified probability error\n",
    "Eb_N0_range = np.arange(0, 5.1, 0.5) \n",
    "pe_bpsk_values = pe_bpsk(Eb_N0_range)\n",
    "plt.plot(Eb_N0_range, pe_bpsk_values)\n",
    "plt.yscale('log')"
   ]
  },
  {
   "cell_type": "markdown",
   "metadata": {},
   "source": [
    "## 1.2 Código de Hamming do primeiro laboratório\n",
    "---"
   ]
  },
  {
   "cell_type": "code",
   "execution_count": 5,
   "metadata": {},
   "outputs": [],
   "source": [
    "# Defining a function as a Hamming coder\n",
    "def hamming_coder(input_vector: np.ndarray) -> np.ndarray:\n",
    "    # Defining a parity matrix\n",
    "    G = np.array([[1, 0, 0, 0, 1, 1, 1],\n",
    "                  [0, 1, 0, 0, 1, 0, 1],\n",
    "                  [0, 0, 1, 0, 1, 1, 0],\n",
    "                  [0, 0, 0, 1, 0, 1, 1]], dtype=int)\n",
    "    # Encoding the input vector\n",
    "    output_vector = np.dot(input_vector, G) % 2\n",
    "    return output_vector"
   ]
  },
  {
   "cell_type": "code",
   "execution_count": 6,
   "metadata": {},
   "outputs": [],
   "source": [
    "# Define a function for a Binary Symmetric Channel with parameter p\n",
    "def bsc(input_vector: np.ndarray, p: float) -> np.ndarray:\n",
    "    # Generate a random vector with the same length as the input vector\n",
    "    random_vector = np.random.rand(input_vector.shape[0])\n",
    "    # Apply the channel to the input vector\n",
    "    output_vector = (input_vector + (random_vector < p)) % 2\n",
    "    return output_vector"
   ]
  },
  {
   "cell_type": "code",
   "execution_count": 7,
   "metadata": {},
   "outputs": [],
   "source": [
    "# Define a function for the syndrome calculator\n",
    "def syndrome(input_vector: np.ndarray) -> np.ndarray:\n",
    "    # Defining a parity-check matrix\n",
    "    H = np.array([[1, 1, 1, 0, 1, 0, 0],\n",
    "                  [1, 0, 1, 1, 0, 1, 0],\n",
    "                  [1, 1, 0, 1, 0, 0, 1]], dtype=int)\n",
    "    # Decoding the input vector\n",
    "    output_vector = np.dot(input_vector, H.T) % 2\n",
    "    return output_vector"
   ]
  },
  {
   "cell_type": "code",
   "execution_count": 8,
   "metadata": {},
   "outputs": [],
   "source": [
    "s_dict = {\n",
    "    '0': (np.array([0, 0, 0]), np.array([0, 0, 0, 0, 0, 0, 0])),\n",
    "    '1': (np.array([1, 1, 1]), np.array([1, 0, 0, 0, 0, 0, 0])),\n",
    "    '2': (np.array([1, 0, 1]), np.array([0, 1, 0, 0, 0, 0, 0])),\n",
    "    '3': (np.array([1, 1, 0]), np.array([0, 0, 1, 0, 0, 0, 0])),\n",
    "    '4': (np.array([0, 1, 1]), np.array([0, 0, 0, 1, 0, 0, 0])),\n",
    "    '5': (np.array([1, 0, 0]), np.array([0, 0, 0, 0, 1, 0, 0])),\n",
    "    '6': (np.array([0, 1, 0]), np.array([0, 0, 0, 0, 0, 1, 0])),\n",
    "    '7': (np.array([0, 0, 1]), np.array([0, 0, 0, 0, 0, 0, 1]))\n",
    "}"
   ]
  },
  {
   "cell_type": "code",
   "execution_count": 9,
   "metadata": {},
   "outputs": [],
   "source": [
    "# Calculating the e_prime from syndrome\n",
    "def e_prime_calc(s: np.ndarray) -> np.ndarray:\n",
    "    for s_index in s_dict.items():\n",
    "        if np.array_equal(s_index[1][0], s):\n",
    "            return s_index[1][1]"
   ]
  },
  {
   "cell_type": "code",
   "execution_count": 10,
   "metadata": {},
   "outputs": [],
   "source": [
    "# Defining the Hamming decoder function with 1-bit correction\n",
    "def hamming_decoder(input_vector: np.ndarray) -> np.ndarray:\n",
    "    s = syndrome(input_vector)\n",
    "    e_prime = e_prime_calc(s)\n",
    "    decoded = (input_vector + e_prime) % 2\n",
    "    return decoded[:4]"
   ]
  },
  {
   "cell_type": "code",
   "execution_count": 11,
   "metadata": {},
   "outputs": [],
   "source": [
    "def hamming_pb_est(p: float) -> float:\n",
    "    sample_size = 1_000_000\n",
    "    error_count = 0\n",
    "    k = 4\n",
    "    l = int(sample_size/k)\n",
    "\n",
    "    for _ in range(l):\n",
    "        input_vector = np.random.randint(0, 2, k)\n",
    "        input_decoded = hamming_coder(input_vector)\n",
    "        transmitted_vector = bsc(input_decoded, p)\n",
    "        decoded_vector = hamming_decoder(transmitted_vector)\n",
    "        error_count += np.count_nonzero(input_vector != decoded_vector)\n",
    "\n",
    "    return (1/sample_size) * error_count "
   ]
  },
  {
   "cell_type": "code",
   "execution_count": 12,
   "metadata": {},
   "outputs": [
    {
     "data": {
      "text/plain": [
       "0.066911"
      ]
     },
     "execution_count": 12,
     "metadata": {},
     "output_type": "execute_result"
    }
   ],
   "source": [
    "hamming_pb_est(0.1)"
   ]
  },
  {
   "cell_type": "code",
   "execution_count": 13,
   "metadata": {},
   "outputs": [],
   "source": [
    "def hamming_pb_est_parallel(p: float, sample_size: int) -> float:\n",
    "    error_count = 0\n",
    "    k = 4\n",
    "\n",
    "    input_vector = np.random.randint(0, 2, k)\n",
    "    input_decoded = hamming_coder(input_vector)\n",
    "    transmitted_vector = bsc(input_decoded, p)\n",
    "    decoded_vector = hamming_decoder(transmitted_vector)\n",
    "    error_count += np.count_nonzero(input_vector != decoded_vector)\n",
    "\n",
    "    return error_count"
   ]
  },
  {
   "cell_type": "code",
   "execution_count": 14,
   "metadata": {},
   "outputs": [],
   "source": [
    "def worker(args):\n",
    "    prob, sample_size = args\n",
    "    return hamming_pb_est_parallel(prob, sample_size)\n",
    "\n",
    "if __name__ == \"__main__\":\n",
    "    erros_list = []\n",
    "    prob_list = [0.5, 0.2, 0.1, 0.05, 0.02, 0.01, 0.005, 0.001, 0.0005, 0.0004, 0.0003, 0.00025] \n",
    "    sample_size = 5_000_000\n",
    "    l = int(sample_size/4)\n",
    "\n",
    "    # Create a Pool of processes\n",
    "    with Pool() as p:\n",
    "        for prob in prob_list:\n",
    "            # Map the function to the data\n",
    "            erros = np.array(list(filter(lambda x: x != 0, p.map(worker, [(prob, sample_size) for _ in range(l)]))))\n",
    "            erros_list.append(np.sum(erros)/sample_size)"
   ]
  },
  {
   "cell_type": "code",
   "execution_count": 15,
   "metadata": {},
   "outputs": [],
   "source": [
    "def q_inv(v: np.ndarray) -> np.ndarray:\n",
    "    return np.sqrt(2) * special.erfinv(np.ones(len(v)) - np.dot(2, v))\n",
    "\n",
    "def Eb_N0_dB_BSC_convert(prob_list: np.ndarray) -> np.ndarray:\n",
    "    Eb_N0 = ((q_inv(prob_list)) ** 2) / 2\n",
    "    return 10 * np.log10(Eb_N0)"
   ]
  },
  {
   "cell_type": "code",
   "execution_count": 16,
   "metadata": {},
   "outputs": [
    {
     "name": "stderr",
     "output_type": "stream",
     "text": [
      "/tmp/ipykernel_912/3083772952.py:6: RuntimeWarning: divide by zero encountered in log10\n",
      "  return 10 * np.log10(Eb_N0)\n"
     ]
    },
    {
     "data": {
      "image/png": "[encoded data removed]",
      "text/plain": [
       "<Figure size 640x480 with 1 Axes>"
      ]
     },
     "metadata": {},
     "output_type": "display_data"
    }
   ],
   "source": [
    "Eb_N0_from_p = Eb_N0_dB_BSC_convert(prob_list)\n",
    "plt.plot(Eb_N0_from_p, erros_list)\n",
    "plt.yscale('log')\n",
    "#xlims\n",
    "plt.xlim(0, 5)\n",
    "#plt.xscale('log')\n",
    "#plt.gca().invert_xaxis()\n",
    "# grids\n",
    "plt.grid(True, which=\"both\", ls=\"--\")\n"
   ]
  },
  {
   "cell_type": "markdown",
   "metadata": {},
   "source": [
    "## 1.3 Desempenho do código LDPC com $N \\approx 1000$ utilizando o algoritmo bit-flipping do segundo laboratório\n",
    "---"
   ]
  },
  {
   "cell_type": "code",
   "execution_count": 17,
   "metadata": {},
   "outputs": [],
   "source": [
    "# Define a function to set the parameters\n",
    "@njit\n",
    "def set_params(N: int, dv: int, dc: int) -> tuple[int, int]:\n",
    "    if (N  % dc != 0):\n",
    "        raise ValueError(\"N must be divisible by dc\")\n",
    "    else:\n",
    "        K = int(N / dc)\n",
    "        M = int(K * dv)\n",
    "        return (K, M)"
   ]
  },
  {
   "cell_type": "code",
   "execution_count": 18,
   "metadata": {},
   "outputs": [],
   "source": [
    "# Define a function for a Binary Symmetric Channel with parameter p\n",
    "@njit\n",
    "def bsc(input_vector: np.ndarray, p: float) -> np.ndarray:\n",
    "    # Generate a random vector with the same length as the input vector\n",
    "    random_vector = np.random.rand(input_vector.shape[0])\n",
    "    # Apply the channel to the input vector\n",
    "    output_vector = (input_vector + (random_vector < p)) % 2\n",
    "    return output_vector"
   ]
  },
  {
   "cell_type": "code",
   "execution_count": 19,
   "metadata": {},
   "outputs": [],
   "source": [
    "def is_peg_matrix(matrix: np.ndarray) -> bool:\n",
    "    \"\"\"\n",
    "    Checa se uma matriz é uma matriz PEG (Progressive Edge Growth).\n",
    "\n",
    "    Parâmetros:\n",
    "    - matrix (ndarray): A matriz a ser verificada.\n",
    "\n",
    "    Retorna:\n",
    "    - bool: True se a matriz é uma matriz PEG, False caso contrário.\n",
    "    \"\"\"\n",
    "    # Check if the matrix is binary\n",
    "    if not np.array_equal(matrix, matrix.astype(bool)):\n",
    "        return False\n",
    "\n",
    "    # Check if the matrix is sparse\n",
    "    if np.count_nonzero(matrix) / matrix.size > 0.5:\n",
    "        return False\n",
    "\n",
    "    # Check if the matrix is regular\n",
    "    row_counts = np.count_nonzero(matrix, axis=1)\n",
    "    if np.any(row_counts != row_counts[0]):\n",
    "        return False\n",
    "    col_counts = np.count_nonzero(matrix, axis=0)\n",
    "    if np.any(col_counts != col_counts[0]):\n",
    "        return False\n",
    "\n",
    "    return True\n",
    "\n",
    "def generate_LDPC_matrix_PEG(N: int, dv: int, dc: int, K: int, M: int) -> np.ndarray:\n",
    "    \"\"\"\n",
    "    Gera uma matriz LDPC usando o algoritmo PEG (Progressive Edge Growth).\n",
    "\n",
    "    Parâmetros:\n",
    "    - N (int): O número total de colunas da matriz.\n",
    "    - dv (int): O grau do vértice variável.\n",
    "    - dc (int): O grau do vértice de checagem.\n",
    "    - K (int): O número de linhas da matriz antes da expansão.\n",
    "    - M (int): O número de vezes que a matriz é expandida.\n",
    "\n",
    "    Retorna:\n",
    "    - H (ndarray): A matriz LDPC gerada.\n",
    "    \"\"\"\n",
    "    H = np.zeros((M, N), dtype=np.int32)\n",
    "    check_degrees = np.zeros(M, dtype=np.int32)\n",
    "    symbol_degrees = np.zeros(N, dtype=np.int32)\n",
    "    edges = []\n",
    "\n",
    "    for j in range(N):\n",
    "        for k in range(dv):\n",
    "            if k == 0:\n",
    "                min_degree = np.min(check_degrees)\n",
    "                min_degree_indices = np.where(check_degrees == min_degree)[0]\n",
    "                ci = np.random.choice(min_degree_indices)\n",
    "                edges.append((ci, j))\n",
    "                check_degrees[ci] += 1\n",
    "                symbol_degrees[j] += 1\n",
    "            else:\n",
    "                tree = [j]\n",
    "                for l in range(1, dc + 1):\n",
    "                    next_level = []\n",
    "                    for node in tree:\n",
    "                        next_level.extend([edge[1] for edge in edges if edge[0] == node])\n",
    "                    if len(next_level) == 0 or len(set(next_level)) < M:\n",
    "                        break\n",
    "                    tree = next_level\n",
    "\n",
    "                # Exclude nodes that are already connected to j\n",
    "                connected_nodes = [edge[0] for edge in edges if edge[1] == j]\n",
    "                candidate_nodes = np.setdiff1d(np.arange(M), np.union1d(tree, connected_nodes))\n",
    "\n",
    "                if len(candidate_nodes) == 0:\n",
    "                    # If no candidate nodes are available, skip this edge\n",
    "                    continue\n",
    "\n",
    "                min_degree = np.min(check_degrees[candidate_nodes])\n",
    "                min_degree_indices = np.where(check_degrees == min_degree)[0]\n",
    "                ci = np.random.choice(min_degree_indices)\n",
    "                edges.append((ci, j))\n",
    "                check_degrees[ci] += 1\n",
    "                symbol_degrees[j] += 1\n",
    "\n",
    "    for edge in edges:\n",
    "        H[edge[0], edge[1]] = 1\n",
    "\n",
    "    if is_peg_matrix(H):\n",
    "        return H\n",
    "    else:\n",
    "        return generate_LDPC_matrix_PEG(N, dv, dc, K, M)"
   ]
  },
  {
   "cell_type": "code",
   "execution_count": 20,
   "metadata": {},
   "outputs": [],
   "source": [
    "# Define a function for the parity check matrix\n",
    "@njit\n",
    "def parity_check(H: np.array, y: np.array) -> np.array:\n",
    "    s = np.zeros(H.shape[0], dtype = np.int32)\n",
    "\n",
    "    for i in range(len(H)):\n",
    "        s[i] = np.sum(H[i] * y) % 2\n",
    "    \n",
    "    return s\n",
    "\n",
    "# Define a function for the bit-flipping algorithm to decode the message\n",
    "@njit\n",
    "def bit_flipping(H: np.array, y: np.array, max_iter: int) -> np.array:\n",
    "    iteration = 0\n",
    "    x = y.copy()\n",
    "    column_length = H.shape[1]\n",
    "    errors = np.ones(column_length, dtype = np.int32)\n",
    "\n",
    "    s = parity_check(H, x)\n",
    "\n",
    "    while np.sum(s) != 0 and iteration <= max_iter:\n",
    "        for i in range(column_length):\n",
    "            errors[i] = np.sum(H[:, i] * s)\n",
    "\n",
    "        for i in range(len(errors)):\n",
    "            if errors[i] == np.max(errors):\n",
    "                x[i] ^= 1    \n",
    "\n",
    "        s = parity_check(H, x)\n",
    "        iteration += 1\n",
    "\n",
    "    return x"
   ]
  },
  {
   "cell_type": "code",
   "execution_count": 21,
   "metadata": {},
   "outputs": [],
   "source": [
    "N = 1001\n",
    "dv = 3\n",
    "dc = 7\n",
    "K, M = set_params(N, dv, dc)\n",
    "LDPC_matrix_PEG = generate_LDPC_matrix_PEG(N, dv, dc, K, M)"
   ]
  },
  {
   "cell_type": "code",
   "execution_count": 142,
   "metadata": {},
   "outputs": [],
   "source": [
    "@njit\n",
    "def ham_bit_flip_pb_est(p: float, N: int) -> float:\n",
    "    sample_size = 100_000.\n",
    "    error_count = 0.\n",
    "    k = N\n",
    "    l = int(sample_size/k)\n",
    "    num_of_bits = l * k\n",
    "\n",
    "    for _ in range(l):\n",
    "        input_vector = np.zeros(k, dtype = np.int32)        \n",
    "        output_vector = bsc(input_vector, p)\n",
    "        decoded_vector = bit_flipping(LDPC_matrix_PEG, output_vector, 10)\n",
    "        error_count += np.count_nonzero(input_vector != decoded_vector)\n",
    "\n",
    "    return error_count/num_of_bits"
   ]
  },
  {
   "cell_type": "code",
   "execution_count": 143,
   "metadata": {},
   "outputs": [
    {
     "data": {
      "text/plain": [
       "0.297036297036297"
      ]
     },
     "execution_count": 143,
     "metadata": {},
     "output_type": "execute_result"
    }
   ],
   "source": [
    "a = ham_bit_flip_pb_est(0.2, N)\n",
    "a"
   ]
  },
  {
   "cell_type": "code",
   "execution_count": 140,
   "metadata": {},
   "outputs": [],
   "source": [
    "@njit\n",
    "def ham_bit_flip_pb_est_parallel(p: float, N: int) -> float:\n",
    "    error_count = 0.\n",
    "    k = N\n",
    "\n",
    "    input_vector = np.zeros(k, dtype = np.int32)        \n",
    "    output_vector = bsc(input_vector, p)\n",
    "    decoded_vector = bit_flipping(LDPC_matrix_PEG, output_vector, 10)\n",
    "    error_count += np.count_nonzero(input_vector != decoded_vector)\n",
    "\n",
    "    return error_count"
   ]
  },
  {
   "cell_type": "code",
   "execution_count": 145,
   "metadata": {},
   "outputs": [
    {
     "ename": "KeyboardInterrupt",
     "evalue": "",
     "output_type": "error",
     "traceback": [
      "\u001b[0;31m---------------------------------------------------------------------------\u001b[0m",
      "\u001b[0;31mKeyboardInterrupt\u001b[0m                         Traceback (most recent call last)",
      "Cell \u001b[0;32mIn[145], line 16\u001b[0m\n\u001b[1;32m     13\u001b[0m \u001b[38;5;28;01mwith\u001b[39;00m Pool() \u001b[38;5;28;01mas\u001b[39;00m p:\n\u001b[1;32m     14\u001b[0m     \u001b[38;5;28;01mfor\u001b[39;00m prob \u001b[38;5;129;01min\u001b[39;00m prob_list:\n\u001b[1;32m     15\u001b[0m         \u001b[38;5;66;03m# Map the function to the data\u001b[39;00m\n\u001b[0;32m---> 16\u001b[0m         erros \u001b[38;5;241m=\u001b[39m np\u001b[38;5;241m.\u001b[39marray(\u001b[38;5;28mlist\u001b[39m(\u001b[38;5;28mfilter\u001b[39m(\u001b[38;5;28;01mlambda\u001b[39;00m x: x \u001b[38;5;241m!=\u001b[39m \u001b[38;5;241m0\u001b[39m, p\u001b[38;5;241m.\u001b[39mmap(worker, [(prob, N) \u001b[38;5;28;01mfor\u001b[39;00m _ \u001b[38;5;129;01min\u001b[39;00m \u001b[38;5;28mrange\u001b[39m(l)]))))\n\u001b[1;32m     17\u001b[0m         erros_list\u001b[38;5;241m.\u001b[39mappend(np\u001b[38;5;241m.\u001b[39msum(erros)\u001b[38;5;241m/\u001b[39mnum_of_bits)\n",
      "File \u001b[0;32m~/anaconda3/lib/python3.11/multiprocessing/pool.py:367\u001b[0m, in \u001b[0;36mPool.map\u001b[0;34m(self, func, iterable, chunksize)\u001b[0m\n\u001b[1;32m    362\u001b[0m \u001b[38;5;28;01mdef\u001b[39;00m \u001b[38;5;21mmap\u001b[39m(\u001b[38;5;28mself\u001b[39m, func, iterable, chunksize\u001b[38;5;241m=\u001b[39m\u001b[38;5;28;01mNone\u001b[39;00m):\n\u001b[1;32m    363\u001b[0m \u001b[38;5;250m    \u001b[39m\u001b[38;5;124;03m'''\u001b[39;00m\n\u001b[1;32m    364\u001b[0m \u001b[38;5;124;03m    Apply `func` to each element in `iterable`, collecting the results\u001b[39;00m\n\u001b[1;32m    365\u001b[0m \u001b[38;5;124;03m    in a list that is returned.\u001b[39;00m\n\u001b[1;32m    366\u001b[0m \u001b[38;5;124;03m    '''\u001b[39;00m\n\u001b[0;32m--> 367\u001b[0m     \u001b[38;5;28;01mreturn\u001b[39;00m \u001b[38;5;28mself\u001b[39m\u001b[38;5;241m.\u001b[39m_map_async(func, iterable, mapstar, chunksize)\u001b[38;5;241m.\u001b[39mget()\n",
      "File \u001b[0;32m~/anaconda3/lib/python3.11/multiprocessing/pool.py:768\u001b[0m, in \u001b[0;36mApplyResult.get\u001b[0;34m(self, timeout)\u001b[0m\n\u001b[1;32m    767\u001b[0m \u001b[38;5;28;01mdef\u001b[39;00m \u001b[38;5;21mget\u001b[39m(\u001b[38;5;28mself\u001b[39m, timeout\u001b[38;5;241m=\u001b[39m\u001b[38;5;28;01mNone\u001b[39;00m):\n\u001b[0;32m--> 768\u001b[0m     \u001b[38;5;28mself\u001b[39m\u001b[38;5;241m.\u001b[39mwait(timeout)\n\u001b[1;32m    769\u001b[0m     \u001b[38;5;28;01mif\u001b[39;00m \u001b[38;5;129;01mnot\u001b[39;00m \u001b[38;5;28mself\u001b[39m\u001b[38;5;241m.\u001b[39mready():\n\u001b[1;32m    770\u001b[0m         \u001b[38;5;28;01mraise\u001b[39;00m \u001b[38;5;167;01mTimeoutError\u001b[39;00m\n",
      "File \u001b[0;32m~/anaconda3/lib/python3.11/multiprocessing/pool.py:765\u001b[0m, in \u001b[0;36mApplyResult.wait\u001b[0;34m(self, timeout)\u001b[0m\n\u001b[1;32m    764\u001b[0m \u001b[38;5;28;01mdef\u001b[39;00m \u001b[38;5;21mwait\u001b[39m(\u001b[38;5;28mself\u001b[39m, timeout\u001b[38;5;241m=\u001b[39m\u001b[38;5;28;01mNone\u001b[39;00m):\n\u001b[0;32m--> 765\u001b[0m     \u001b[38;5;28mself\u001b[39m\u001b[38;5;241m.\u001b[39m_event\u001b[38;5;241m.\u001b[39mwait(timeout)\n",
      "File \u001b[0;32m~/anaconda3/lib/python3.11/threading.py:629\u001b[0m, in \u001b[0;36mEvent.wait\u001b[0;34m(self, timeout)\u001b[0m\n\u001b[1;32m    627\u001b[0m signaled \u001b[38;5;241m=\u001b[39m \u001b[38;5;28mself\u001b[39m\u001b[38;5;241m.\u001b[39m_flag\n\u001b[1;32m    628\u001b[0m \u001b[38;5;28;01mif\u001b[39;00m \u001b[38;5;129;01mnot\u001b[39;00m signaled:\n\u001b[0;32m--> 629\u001b[0m     signaled \u001b[38;5;241m=\u001b[39m \u001b[38;5;28mself\u001b[39m\u001b[38;5;241m.\u001b[39m_cond\u001b[38;5;241m.\u001b[39mwait(timeout)\n\u001b[1;32m    630\u001b[0m \u001b[38;5;28;01mreturn\u001b[39;00m signaled\n",
      "File \u001b[0;32m~/anaconda3/lib/python3.11/threading.py:327\u001b[0m, in \u001b[0;36mCondition.wait\u001b[0;34m(self, timeout)\u001b[0m\n\u001b[1;32m    325\u001b[0m \u001b[38;5;28;01mtry\u001b[39;00m:    \u001b[38;5;66;03m# restore state no matter what (e.g., KeyboardInterrupt)\u001b[39;00m\n\u001b[1;32m    326\u001b[0m     \u001b[38;5;28;01mif\u001b[39;00m timeout \u001b[38;5;129;01mis\u001b[39;00m \u001b[38;5;28;01mNone\u001b[39;00m:\n\u001b[0;32m--> 327\u001b[0m         waiter\u001b[38;5;241m.\u001b[39macquire()\n\u001b[1;32m    328\u001b[0m         gotit \u001b[38;5;241m=\u001b[39m \u001b[38;5;28;01mTrue\u001b[39;00m\n\u001b[1;32m    329\u001b[0m     \u001b[38;5;28;01melse\u001b[39;00m:\n",
      "\u001b[0;31mKeyboardInterrupt\u001b[0m: "
     ]
    }
   ],
   "source": [
    "def worker(args):\n",
    "    prob, N = args\n",
    "    return ham_bit_flip_pb_est_parallel(prob, N)\n",
    "\n",
    "if __name__ == \"__main__\":\n",
    "    erros_list = []\n",
    "    prob_list = [0.5, 0.2, 0.1, 0.05, 0.02, 0.01, 0.005, 0.001, 0.0005, 0.0004, 0.0003, 0.00025] \n",
    "    sample_size = 2_000_000\n",
    "    l = int(sample_size/4)\n",
    "    num_of_bits = l * N\n",
    "\n",
    "    # Create a Pool of processes\n",
    "    with Pool() as p:\n",
    "        for prob in prob_list:\n",
    "            # Map the function to the data\n",
    "            erros = np.array(list(filter(lambda x: x != 0, p.map(worker, [(prob, N) for _ in range(l)]))))\n",
    "            erros_list.append(np.sum(erros)/num_of_bits)"
   ]
  },
  {
   "cell_type": "code",
   "execution_count": 144,
   "metadata": {},
   "outputs": [
    {
     "data": {
      "text/plain": [
       "[0.4999249150849151, 0.2966356043956044]"
      ]
     },
     "execution_count": 144,
     "metadata": {},
     "output_type": "execute_result"
    }
   ],
   "source": [
    "erros_list"
   ]
  }
 ],
 "metadata": {
  "kernelspec": {
   "display_name": "base",
   "language": "python",
   "name": "python3"
  },
  "language_info": {
   "codemirror_mode": {
    "name": "ipython",
    "version": 3
   },
   "file_extension": ".py",
   "mimetype": "text/x-python",
   "name": "python",
   "nbconvert_exporter": "python",
   "pygments_lexer": "ipython3",
   "version": "3.11.7"
  }
 },
 "nbformat": 4,
 "nbformat_minor": 2
}
